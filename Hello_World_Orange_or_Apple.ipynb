{
  "nbformat": 4,
  "nbformat_minor": 0,
  "metadata": {
    "kernelspec": {
      "display_name": "Python 3",
      "language": "python",
      "name": "python3"
    },
    "language_info": {
      "codemirror_mode": {
        "name": "ipython",
        "version": 3
      },
      "file_extension": ".py",
      "mimetype": "text/x-python",
      "name": "python",
      "nbconvert_exporter": "python",
      "pygments_lexer": "ipython3",
      "version": "3.7.7"
    },
    "colab": {
      "name": "Hello World - Orange or Apple.ipynb",
      "provenance": [],
      "collapsed_sections": [],
      "include_colab_link": true
    }
  },
  "cells": [
    {
      "cell_type": "markdown",
      "metadata": {
        "id": "view-in-github",
        "colab_type": "text"
      },
      "source": [
        "<a href=\"https://colab.research.google.com/github/eya-abid/ExData_Plotting1/blob/master/Hello_World_Orange_or_Apple.ipynb\" target=\"_parent\"><img src=\"https://colab.research.google.com/assets/colab-badge.svg\" alt=\"Open In Colab\"/></a>"
      ]
    },
    {
      "cell_type": "code",
      "metadata": {
        "id": "LLrq53wxqpCQ"
      },
      "source": [
        "from sklearn import tree"
      ],
      "execution_count": null,
      "outputs": []
    },
    {
      "cell_type": "code",
      "metadata": {
        "id": "EST0Mf71qpCR"
      },
      "source": [
        "features = [ [140,1], [130,1], [150,0], [170,0] ]"
      ],
      "execution_count": null,
      "outputs": []
    },
    {
      "cell_type": "code",
      "metadata": {
        "id": "fXlqQK87qpCR"
      },
      "source": [
        "labels = [0,0,1,1,]"
      ],
      "execution_count": null,
      "outputs": []
    },
    {
      "cell_type": "code",
      "metadata": {
        "id": "n4VYLGdwqpCR"
      },
      "source": [
        "clf = tree.DecisionTreeClassifier()"
      ],
      "execution_count": null,
      "outputs": []
    },
    {
      "cell_type": "code",
      "metadata": {
        "id": "MPg6-l4fqpCR"
      },
      "source": [
        "clf = clf.fit(features,labels)"
      ],
      "execution_count": null,
      "outputs": []
    },
    {
      "cell_type": "code",
      "metadata": {
        "id": "BcSg-IRbxPoG"
      },
      "source": [
        ""
      ],
      "execution_count": null,
      "outputs": []
    },
    {
      "cell_type": "code",
      "metadata": {
        "id": "TEOEViyjqpCR",
        "colab": {
          "base_uri": "https://localhost:8080/"
        },
        "outputId": "94226567-3274-40c7-eaa7-324a12abd38d"
      },
      "source": [
        "clf.predict([[150,0]])"
      ],
      "execution_count": null,
      "outputs": [
        {
          "output_type": "execute_result",
          "data": {
            "text/plain": [
              "array([1])"
            ]
          },
          "metadata": {
            "tags": []
          },
          "execution_count": 24
        }
      ]
    },
    {
      "cell_type": "code",
      "metadata": {
        "id": "7ky1C65oqpCS",
        "colab": {
          "base_uri": "https://localhost:8080/"
        },
        "outputId": "1d6ee670-da06-4883-b428-df34413d9f25"
      },
      "source": [
        "clf.predict([[120,1]])"
      ],
      "execution_count": null,
      "outputs": [
        {
          "output_type": "execute_result",
          "data": {
            "text/plain": [
              "array([0])"
            ]
          },
          "metadata": {
            "tags": []
          },
          "execution_count": 25
        }
      ]
    },
    {
      "cell_type": "code",
      "metadata": {
        "id": "LEKUMtpJqpCS",
        "colab": {
          "base_uri": "https://localhost:8080/"
        },
        "outputId": "3f9e79bf-f4cc-48de-f345-ce6ae0a5f929"
      },
      "source": [
        "clf.predict([[120,1]])"
      ],
      "execution_count": null,
      "outputs": [
        {
          "output_type": "execute_result",
          "data": {
            "text/plain": [
              "array([0])"
            ]
          },
          "metadata": {
            "tags": []
          },
          "execution_count": 26
        }
      ]
    },
    {
      "cell_type": "code",
      "metadata": {
        "id": "7HUeNURGqpCS"
      },
      "source": [
        "#export decision tree into a dot file\n",
        "tree.export_graphviz(clf,out_file='MyDecisionTree.dot', feature_names=['weight','texture'], class_names=['apple','orange'], filled=True, rounded=True, impurity=False) "
      ],
      "execution_count": null,
      "outputs": []
    },
    {
      "cell_type": "code",
      "metadata": {
        "id": "hnSHvq25qpCS",
        "colab": {
          "base_uri": "https://localhost:8080/"
        },
        "outputId": "6c3fb472-3b9f-4904-9963-1c2fbdd6cadd"
      },
      "source": [
        "from subprocess import check_call\n",
        "check_call(['dot','-Tpng','MyDecisionTree.dot','-o','Apple_Orange.png'])"
      ],
      "execution_count": null,
      "outputs": [
        {
          "output_type": "execute_result",
          "data": {
            "text/plain": [
              "0"
            ]
          },
          "metadata": {
            "tags": []
          },
          "execution_count": 28
        }
      ]
    },
    {
      "cell_type": "code",
      "metadata": {
        "id": "URbzSGofqpCS"
      },
      "source": [
        ""
      ],
      "execution_count": null,
      "outputs": []
    }
  ]
}