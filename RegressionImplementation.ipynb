{
  "nbformat": 4,
  "nbformat_minor": 0,
  "metadata": {
    "kernelspec": {
      "display_name": "Python 3",
      "language": "python",
      "name": "python3"
    },
    "language_info": {
      "codemirror_mode": {
        "name": "ipython",
        "version": 3
      },
      "file_extension": ".py",
      "mimetype": "text/x-python",
      "name": "python",
      "nbconvert_exporter": "python",
      "pygments_lexer": "ipython3",
      "version": "3.8.3"
    },
    "colab": {
      "name": "RegressionImplementation.ipynb",
      "provenance": [],
      "include_colab_link": true
    }
  },
  "cells": [
    {
      "cell_type": "markdown",
      "metadata": {
        "id": "view-in-github",
        "colab_type": "text"
      },
      "source": [
        "<a href=\"https://colab.research.google.com/github/eya-abid/ExData_Plotting1/blob/master/RegressionImplementation.ipynb\" target=\"_parent\"><img src=\"https://colab.research.google.com/assets/colab-badge.svg\" alt=\"Open In Colab\"/></a>"
      ]
    },
    {
      "cell_type": "markdown",
      "metadata": {
        "id": "1iowrSK4ot1F"
      },
      "source": [
        "# King County Home Sales: Analysis and the limitations of a multiple regression model"
      ]
    },
    {
      "cell_type": "code",
      "metadata": {
        "id": "ufvZcl4Dot1K"
      },
      "source": [
        "import pandas as pd\n",
        "# it offers data structures and operations for manipulating numerical tables and time series. \n",
        "\n",
        "import numpy as np\n",
        "#NumPy is a library for the Python programming language, adding support for large, multi-dimensional arrays and matrices, \n",
        "#along with a large collection of high-level mathematical functions to operate on these arrays\n",
        "\n",
        "from sklearn.model_selection import train_test_split\n",
        "#It features various classification, regression and clustering algorithms including support vector machines, \n",
        "#random forests, gradient boosting,k-means and DBSCAN, and is designed to interoperate with the Python numerical \n",
        "#and scientific libraries NumPy and SciPy.\n",
        "#choosing estimators and their parameters\n",
        "#Split Your Dataset With scikit-learn's train_test_split()\n",
        "\n",
        "import matplotlib.pyplot as plt\n",
        "#matplotlib.pyplot is a state-based interface to matplotlib. It provides a MATLAB-like way of plotting.\n",
        "#pyplot is mainly intended for interactive plots and simple cases of programmatic plot generation:\n",
        "\n",
        "import seaborn as sns\n",
        "#Seaborn is a Python data visualization library based on matplotlib. \n",
        "#It provides a high-level interface for drawing attractive and informative statistical graphics.\n",
        "\n",
        "from collections import Counter\n",
        "\n",
        "#A Counter is a container that keeps track of how many times equivalent values are added. \n",
        "#It can be used to implement the same algorithms for which bag or multiset data structures are commonly \n",
        "#used in other languages."
      ],
      "execution_count": null,
      "outputs": []
    },
    {
      "cell_type": "code",
      "metadata": {
        "id": "66tLHySeot1K"
      },
      "source": [
        ""
      ],
      "execution_count": null,
      "outputs": []
    },
    {
      "cell_type": "code",
      "metadata": {
        "id": "GV85QfFgot1L",
        "outputId": "b8dcc0bc-b0ca-4564-8d86-d4a8bf428fb3"
      },
      "source": [
        "df = pd.read_csv('house_data.csv')\n",
        "#Read a comma-separated values (csv) file into DataFrame.\n",
        "\"\"\"DataFrame is a 2-dimensional labeled data structure with columns of potentially different types. \n",
        "You can think of it like a spreadsheet or SQL table, or a dict of Series objects. \n",
        "It is generally the most commonly used pandas object. ... Structured or record ndarray.\"\"\""
      ],
      "execution_count": null,
      "outputs": [
        {
          "output_type": "execute_result",
          "data": {
            "text/plain": [
              "'DataFrame is a 2-dimensional labeled data structure with columns of potentially different types. \\nYou can think of it like a spreadsheet or SQL table, or a dict of Series objects. \\nIt is generally the most commonly used pandas object. ... Structured or record ndarray.'"
            ]
          },
          "metadata": {
            "tags": []
          },
          "execution_count": 2
        }
      ]
    },
    {
      "cell_type": "markdown",
      "metadata": {
        "id": "bE4bkEFZot1M"
      },
      "source": [
        "# let's do some data analysis"
      ]
    },
    {
      "cell_type": "code",
      "metadata": {
        "id": "Wqbvyyanot1M",
        "outputId": "37b08ab1-986b-4413-b063-135787730324"
      },
      "source": [
        "df.head()\n",
        "#lot=terrain"
      ],
      "execution_count": null,
      "outputs": [
        {
          "output_type": "execute_result",
          "data": {
            "text/html": [
              "<div>\n",
              "<style scoped>\n",
              "    .dataframe tbody tr th:only-of-type {\n",
              "        vertical-align: middle;\n",
              "    }\n",
              "\n",
              "    .dataframe tbody tr th {\n",
              "        vertical-align: top;\n",
              "    }\n",
              "\n",
              "    .dataframe thead th {\n",
              "        text-align: right;\n",
              "    }\n",
              "</style>\n",
              "<table border=\"1\" class=\"dataframe\">\n",
              "  <thead>\n",
              "    <tr style=\"text-align: right;\">\n",
              "      <th></th>\n",
              "      <th>id</th>\n",
              "      <th>date</th>\n",
              "      <th>price</th>\n",
              "      <th>bedrooms</th>\n",
              "      <th>bathrooms</th>\n",
              "      <th>sqft_living</th>\n",
              "      <th>sqft_lot</th>\n",
              "      <th>floors</th>\n",
              "      <th>waterfront</th>\n",
              "      <th>view</th>\n",
              "      <th>...</th>\n",
              "      <th>grade</th>\n",
              "      <th>sqft_above</th>\n",
              "      <th>sqft_basement</th>\n",
              "      <th>yr_built</th>\n",
              "      <th>yr_renovated</th>\n",
              "      <th>zipcode</th>\n",
              "      <th>lat</th>\n",
              "      <th>long</th>\n",
              "      <th>sqft_living15</th>\n",
              "      <th>sqft_lot15</th>\n",
              "    </tr>\n",
              "  </thead>\n",
              "  <tbody>\n",
              "    <tr>\n",
              "      <th>0</th>\n",
              "      <td>7129300520</td>\n",
              "      <td>20141013T000000</td>\n",
              "      <td>221900.0</td>\n",
              "      <td>3</td>\n",
              "      <td>1.00</td>\n",
              "      <td>1180</td>\n",
              "      <td>5650</td>\n",
              "      <td>1.0</td>\n",
              "      <td>0</td>\n",
              "      <td>0</td>\n",
              "      <td>...</td>\n",
              "      <td>7</td>\n",
              "      <td>1180</td>\n",
              "      <td>0</td>\n",
              "      <td>1955</td>\n",
              "      <td>0</td>\n",
              "      <td>98178</td>\n",
              "      <td>47.5112</td>\n",
              "      <td>-122.257</td>\n",
              "      <td>1340</td>\n",
              "      <td>5650</td>\n",
              "    </tr>\n",
              "    <tr>\n",
              "      <th>1</th>\n",
              "      <td>6414100192</td>\n",
              "      <td>20141209T000000</td>\n",
              "      <td>538000.0</td>\n",
              "      <td>3</td>\n",
              "      <td>2.25</td>\n",
              "      <td>2570</td>\n",
              "      <td>7242</td>\n",
              "      <td>2.0</td>\n",
              "      <td>0</td>\n",
              "      <td>0</td>\n",
              "      <td>...</td>\n",
              "      <td>7</td>\n",
              "      <td>2170</td>\n",
              "      <td>400</td>\n",
              "      <td>1951</td>\n",
              "      <td>1991</td>\n",
              "      <td>98125</td>\n",
              "      <td>47.7210</td>\n",
              "      <td>-122.319</td>\n",
              "      <td>1690</td>\n",
              "      <td>7639</td>\n",
              "    </tr>\n",
              "    <tr>\n",
              "      <th>2</th>\n",
              "      <td>5631500400</td>\n",
              "      <td>20150225T000000</td>\n",
              "      <td>180000.0</td>\n",
              "      <td>2</td>\n",
              "      <td>1.00</td>\n",
              "      <td>770</td>\n",
              "      <td>10000</td>\n",
              "      <td>1.0</td>\n",
              "      <td>0</td>\n",
              "      <td>0</td>\n",
              "      <td>...</td>\n",
              "      <td>6</td>\n",
              "      <td>770</td>\n",
              "      <td>0</td>\n",
              "      <td>1933</td>\n",
              "      <td>0</td>\n",
              "      <td>98028</td>\n",
              "      <td>47.7379</td>\n",
              "      <td>-122.233</td>\n",
              "      <td>2720</td>\n",
              "      <td>8062</td>\n",
              "    </tr>\n",
              "    <tr>\n",
              "      <th>3</th>\n",
              "      <td>2487200875</td>\n",
              "      <td>20141209T000000</td>\n",
              "      <td>604000.0</td>\n",
              "      <td>4</td>\n",
              "      <td>3.00</td>\n",
              "      <td>1960</td>\n",
              "      <td>5000</td>\n",
              "      <td>1.0</td>\n",
              "      <td>0</td>\n",
              "      <td>0</td>\n",
              "      <td>...</td>\n",
              "      <td>7</td>\n",
              "      <td>1050</td>\n",
              "      <td>910</td>\n",
              "      <td>1965</td>\n",
              "      <td>0</td>\n",
              "      <td>98136</td>\n",
              "      <td>47.5208</td>\n",
              "      <td>-122.393</td>\n",
              "      <td>1360</td>\n",
              "      <td>5000</td>\n",
              "    </tr>\n",
              "    <tr>\n",
              "      <th>4</th>\n",
              "      <td>1954400510</td>\n",
              "      <td>20150218T000000</td>\n",
              "      <td>510000.0</td>\n",
              "      <td>3</td>\n",
              "      <td>2.00</td>\n",
              "      <td>1680</td>\n",
              "      <td>8080</td>\n",
              "      <td>1.0</td>\n",
              "      <td>0</td>\n",
              "      <td>0</td>\n",
              "      <td>...</td>\n",
              "      <td>8</td>\n",
              "      <td>1680</td>\n",
              "      <td>0</td>\n",
              "      <td>1987</td>\n",
              "      <td>0</td>\n",
              "      <td>98074</td>\n",
              "      <td>47.6168</td>\n",
              "      <td>-122.045</td>\n",
              "      <td>1800</td>\n",
              "      <td>7503</td>\n",
              "    </tr>\n",
              "  </tbody>\n",
              "</table>\n",
              "<p>5 rows × 21 columns</p>\n",
              "</div>"
            ],
            "text/plain": [
              "           id             date     price  bedrooms  bathrooms  sqft_living  \\\n",
              "0  7129300520  20141013T000000  221900.0         3       1.00         1180   \n",
              "1  6414100192  20141209T000000  538000.0         3       2.25         2570   \n",
              "2  5631500400  20150225T000000  180000.0         2       1.00          770   \n",
              "3  2487200875  20141209T000000  604000.0         4       3.00         1960   \n",
              "4  1954400510  20150218T000000  510000.0         3       2.00         1680   \n",
              "\n",
              "   sqft_lot  floors  waterfront  view  ...  grade  sqft_above  sqft_basement  \\\n",
              "0      5650     1.0           0     0  ...      7        1180              0   \n",
              "1      7242     2.0           0     0  ...      7        2170            400   \n",
              "2     10000     1.0           0     0  ...      6         770              0   \n",
              "3      5000     1.0           0     0  ...      7        1050            910   \n",
              "4      8080     1.0           0     0  ...      8        1680              0   \n",
              "\n",
              "   yr_built  yr_renovated  zipcode      lat     long  sqft_living15  \\\n",
              "0      1955             0    98178  47.5112 -122.257           1340   \n",
              "1      1951          1991    98125  47.7210 -122.319           1690   \n",
              "2      1933             0    98028  47.7379 -122.233           2720   \n",
              "3      1965             0    98136  47.5208 -122.393           1360   \n",
              "4      1987             0    98074  47.6168 -122.045           1800   \n",
              "\n",
              "   sqft_lot15  \n",
              "0        5650  \n",
              "1        7639  \n",
              "2        8062  \n",
              "3        5000  \n",
              "4        7503  \n",
              "\n",
              "[5 rows x 21 columns]"
            ]
          },
          "metadata": {
            "tags": []
          },
          "execution_count": 3
        }
      ]
    },
    {
      "cell_type": "markdown",
      "metadata": {
        "id": "1vQTQQjPot1M"
      },
      "source": [
        "The data for these sales comes from the official public records of home sales in the King County area, Washington State. The data sets contains 21613 rows. Each represents a home sold from May 2014 through May 2015. Below is a breakdown of the variables involved:\n",
        "\n",
        "id - Unique ID for each home sold\n",
        "\n",
        "date - Date of the home sale\n",
        "\n",
        "price - Price of each home sold\n",
        "\n",
        "bedrooms - Number of bedrooms\n",
        "\n",
        "bathrooms - Number of bathrooms, where .5 accounts for a room with a toilet but no shower\n",
        "\n",
        "sqft_living - Square footage of the apartments interior living space\n",
        "\n",
        "sqft_lot - Square footage of the land space\n",
        "\n",
        "floors - Number of floors\n",
        "\n",
        "waterfront - A dummy variable for whether the apartment was overlooking the waterfront or not\n",
        "\n",
        "view - An index from 0 to 4 of how good the view of the property was\n",
        "\n",
        "condition - An index from 1 to 5 on the condition of the apartment,\n",
        "\n",
        "grade - An index from 1 to 13, where 1-3 falls short of building construction and design, 7 has an average level of construction and design, and 11-13 have a high quality level of construction and design.\n",
        "\n",
        "sqft_above - The square footage of the interior housing space that is above ground level\n",
        "\n",
        "sqft_basement - The square footage of the interior housing space that is below ground level\n",
        "\n",
        "yr_built - The year the house was initially built\n",
        "\n",
        "yr_renovated - The year of the house’s last renovation\n",
        "\n",
        "zipcode - What zipcode area the house is in\n",
        "\n",
        "lat - Lattitude\n",
        "\n",
        "long - Longitude\n",
        "\n",
        "sqft_living15 - The square footage of interior housing living space for the nearest 15 neighbors\n",
        "\n",
        "sqft_lot15 - The square footage of the land lots of the nearest 15 neighbors\n",
        "https://www.kaggle.com/harlfoxem/housesalesprediction/discussion/23194"
      ]
    },
    {
      "cell_type": "code",
      "metadata": {
        "id": "zvbjt0Ghot1N",
        "outputId": "06f8c399-c899-41b2-a438-05db0452577e"
      },
      "source": [
        "df.info()"
      ],
      "execution_count": null,
      "outputs": [
        {
          "output_type": "stream",
          "text": [
            "<class 'pandas.core.frame.DataFrame'>\n",
            "RangeIndex: 21613 entries, 0 to 21612\n",
            "Data columns (total 21 columns):\n",
            " #   Column         Non-Null Count  Dtype  \n",
            "---  ------         --------------  -----  \n",
            " 0   id             21613 non-null  int64  \n",
            " 1   date           21613 non-null  object \n",
            " 2   price          21613 non-null  float64\n",
            " 3   bedrooms       21613 non-null  int64  \n",
            " 4   bathrooms      21613 non-null  float64\n",
            " 5   sqft_living    21613 non-null  int64  \n",
            " 6   sqft_lot       21613 non-null  int64  \n",
            " 7   floors         21613 non-null  float64\n",
            " 8   waterfront     21613 non-null  int64  \n",
            " 9   view           21613 non-null  int64  \n",
            " 10  condition      21613 non-null  int64  \n",
            " 11  grade          21613 non-null  int64  \n",
            " 12  sqft_above     21613 non-null  int64  \n",
            " 13  sqft_basement  21613 non-null  int64  \n",
            " 14  yr_built       21613 non-null  int64  \n",
            " 15  yr_renovated   21613 non-null  int64  \n",
            " 16  zipcode        21613 non-null  int64  \n",
            " 17  lat            21613 non-null  float64\n",
            " 18  long           21613 non-null  float64\n",
            " 19  sqft_living15  21613 non-null  int64  \n",
            " 20  sqft_lot15     21613 non-null  int64  \n",
            "dtypes: float64(5), int64(15), object(1)\n",
            "memory usage: 3.5+ MB\n"
          ],
          "name": "stdout"
        }
      ]
    },
    {
      "cell_type": "code",
      "metadata": {
        "id": "agVynhwdot1N",
        "outputId": "1c2815ea-4c4f-408e-f30c-d2ed432f2c9a"
      },
      "source": [
        "df.describe()"
      ],
      "execution_count": null,
      "outputs": [
        {
          "output_type": "execute_result",
          "data": {
            "text/html": [
              "<div>\n",
              "<style scoped>\n",
              "    .dataframe tbody tr th:only-of-type {\n",
              "        vertical-align: middle;\n",
              "    }\n",
              "\n",
              "    .dataframe tbody tr th {\n",
              "        vertical-align: top;\n",
              "    }\n",
              "\n",
              "    .dataframe thead th {\n",
              "        text-align: right;\n",
              "    }\n",
              "</style>\n",
              "<table border=\"1\" class=\"dataframe\">\n",
              "  <thead>\n",
              "    <tr style=\"text-align: right;\">\n",
              "      <th></th>\n",
              "      <th>id</th>\n",
              "      <th>price</th>\n",
              "      <th>bedrooms</th>\n",
              "      <th>bathrooms</th>\n",
              "      <th>sqft_living</th>\n",
              "      <th>sqft_lot</th>\n",
              "      <th>floors</th>\n",
              "      <th>waterfront</th>\n",
              "      <th>view</th>\n",
              "      <th>condition</th>\n",
              "      <th>grade</th>\n",
              "      <th>sqft_above</th>\n",
              "      <th>sqft_basement</th>\n",
              "      <th>yr_built</th>\n",
              "      <th>yr_renovated</th>\n",
              "      <th>zipcode</th>\n",
              "      <th>lat</th>\n",
              "      <th>long</th>\n",
              "      <th>sqft_living15</th>\n",
              "      <th>sqft_lot15</th>\n",
              "    </tr>\n",
              "  </thead>\n",
              "  <tbody>\n",
              "    <tr>\n",
              "      <th>count</th>\n",
              "      <td>2.161300e+04</td>\n",
              "      <td>2.161300e+04</td>\n",
              "      <td>21613.000000</td>\n",
              "      <td>21613.000000</td>\n",
              "      <td>21613.000000</td>\n",
              "      <td>2.161300e+04</td>\n",
              "      <td>21613.000000</td>\n",
              "      <td>21613.000000</td>\n",
              "      <td>21613.000000</td>\n",
              "      <td>21613.000000</td>\n",
              "      <td>21613.000000</td>\n",
              "      <td>21613.000000</td>\n",
              "      <td>21613.000000</td>\n",
              "      <td>21613.000000</td>\n",
              "      <td>21613.000000</td>\n",
              "      <td>21613.000000</td>\n",
              "      <td>21613.000000</td>\n",
              "      <td>21613.000000</td>\n",
              "      <td>21613.000000</td>\n",
              "      <td>21613.000000</td>\n",
              "    </tr>\n",
              "    <tr>\n",
              "      <th>mean</th>\n",
              "      <td>4.580302e+09</td>\n",
              "      <td>5.401822e+05</td>\n",
              "      <td>3.370842</td>\n",
              "      <td>2.114757</td>\n",
              "      <td>2079.899736</td>\n",
              "      <td>1.510697e+04</td>\n",
              "      <td>1.494309</td>\n",
              "      <td>0.007542</td>\n",
              "      <td>0.234303</td>\n",
              "      <td>3.409430</td>\n",
              "      <td>7.656873</td>\n",
              "      <td>1788.390691</td>\n",
              "      <td>291.509045</td>\n",
              "      <td>1971.005136</td>\n",
              "      <td>84.402258</td>\n",
              "      <td>98077.939805</td>\n",
              "      <td>47.560053</td>\n",
              "      <td>-122.213896</td>\n",
              "      <td>1986.552492</td>\n",
              "      <td>12768.455652</td>\n",
              "    </tr>\n",
              "    <tr>\n",
              "      <th>std</th>\n",
              "      <td>2.876566e+09</td>\n",
              "      <td>3.673622e+05</td>\n",
              "      <td>0.930062</td>\n",
              "      <td>0.770163</td>\n",
              "      <td>918.440897</td>\n",
              "      <td>4.142051e+04</td>\n",
              "      <td>0.539989</td>\n",
              "      <td>0.086517</td>\n",
              "      <td>0.766318</td>\n",
              "      <td>0.650743</td>\n",
              "      <td>1.175459</td>\n",
              "      <td>828.090978</td>\n",
              "      <td>442.575043</td>\n",
              "      <td>29.373411</td>\n",
              "      <td>401.679240</td>\n",
              "      <td>53.505026</td>\n",
              "      <td>0.138564</td>\n",
              "      <td>0.140828</td>\n",
              "      <td>685.391304</td>\n",
              "      <td>27304.179631</td>\n",
              "    </tr>\n",
              "    <tr>\n",
              "      <th>min</th>\n",
              "      <td>1.000102e+06</td>\n",
              "      <td>7.500000e+04</td>\n",
              "      <td>0.000000</td>\n",
              "      <td>0.000000</td>\n",
              "      <td>290.000000</td>\n",
              "      <td>5.200000e+02</td>\n",
              "      <td>1.000000</td>\n",
              "      <td>0.000000</td>\n",
              "      <td>0.000000</td>\n",
              "      <td>1.000000</td>\n",
              "      <td>1.000000</td>\n",
              "      <td>290.000000</td>\n",
              "      <td>0.000000</td>\n",
              "      <td>1900.000000</td>\n",
              "      <td>0.000000</td>\n",
              "      <td>98001.000000</td>\n",
              "      <td>47.155900</td>\n",
              "      <td>-122.519000</td>\n",
              "      <td>399.000000</td>\n",
              "      <td>651.000000</td>\n",
              "    </tr>\n",
              "    <tr>\n",
              "      <th>25%</th>\n",
              "      <td>2.123049e+09</td>\n",
              "      <td>3.219500e+05</td>\n",
              "      <td>3.000000</td>\n",
              "      <td>1.750000</td>\n",
              "      <td>1427.000000</td>\n",
              "      <td>5.040000e+03</td>\n",
              "      <td>1.000000</td>\n",
              "      <td>0.000000</td>\n",
              "      <td>0.000000</td>\n",
              "      <td>3.000000</td>\n",
              "      <td>7.000000</td>\n",
              "      <td>1190.000000</td>\n",
              "      <td>0.000000</td>\n",
              "      <td>1951.000000</td>\n",
              "      <td>0.000000</td>\n",
              "      <td>98033.000000</td>\n",
              "      <td>47.471000</td>\n",
              "      <td>-122.328000</td>\n",
              "      <td>1490.000000</td>\n",
              "      <td>5100.000000</td>\n",
              "    </tr>\n",
              "    <tr>\n",
              "      <th>50%</th>\n",
              "      <td>3.904930e+09</td>\n",
              "      <td>4.500000e+05</td>\n",
              "      <td>3.000000</td>\n",
              "      <td>2.250000</td>\n",
              "      <td>1910.000000</td>\n",
              "      <td>7.618000e+03</td>\n",
              "      <td>1.500000</td>\n",
              "      <td>0.000000</td>\n",
              "      <td>0.000000</td>\n",
              "      <td>3.000000</td>\n",
              "      <td>7.000000</td>\n",
              "      <td>1560.000000</td>\n",
              "      <td>0.000000</td>\n",
              "      <td>1975.000000</td>\n",
              "      <td>0.000000</td>\n",
              "      <td>98065.000000</td>\n",
              "      <td>47.571800</td>\n",
              "      <td>-122.230000</td>\n",
              "      <td>1840.000000</td>\n",
              "      <td>7620.000000</td>\n",
              "    </tr>\n",
              "    <tr>\n",
              "      <th>75%</th>\n",
              "      <td>7.308900e+09</td>\n",
              "      <td>6.450000e+05</td>\n",
              "      <td>4.000000</td>\n",
              "      <td>2.500000</td>\n",
              "      <td>2550.000000</td>\n",
              "      <td>1.068800e+04</td>\n",
              "      <td>2.000000</td>\n",
              "      <td>0.000000</td>\n",
              "      <td>0.000000</td>\n",
              "      <td>4.000000</td>\n",
              "      <td>8.000000</td>\n",
              "      <td>2210.000000</td>\n",
              "      <td>560.000000</td>\n",
              "      <td>1997.000000</td>\n",
              "      <td>0.000000</td>\n",
              "      <td>98118.000000</td>\n",
              "      <td>47.678000</td>\n",
              "      <td>-122.125000</td>\n",
              "      <td>2360.000000</td>\n",
              "      <td>10083.000000</td>\n",
              "    </tr>\n",
              "    <tr>\n",
              "      <th>max</th>\n",
              "      <td>9.900000e+09</td>\n",
              "      <td>7.700000e+06</td>\n",
              "      <td>33.000000</td>\n",
              "      <td>8.000000</td>\n",
              "      <td>13540.000000</td>\n",
              "      <td>1.651359e+06</td>\n",
              "      <td>3.500000</td>\n",
              "      <td>1.000000</td>\n",
              "      <td>4.000000</td>\n",
              "      <td>5.000000</td>\n",
              "      <td>13.000000</td>\n",
              "      <td>9410.000000</td>\n",
              "      <td>4820.000000</td>\n",
              "      <td>2015.000000</td>\n",
              "      <td>2015.000000</td>\n",
              "      <td>98199.000000</td>\n",
              "      <td>47.777600</td>\n",
              "      <td>-121.315000</td>\n",
              "      <td>6210.000000</td>\n",
              "      <td>871200.000000</td>\n",
              "    </tr>\n",
              "  </tbody>\n",
              "</table>\n",
              "</div>"
            ],
            "text/plain": [
              "                 id         price      bedrooms     bathrooms   sqft_living  \\\n",
              "count  2.161300e+04  2.161300e+04  21613.000000  21613.000000  21613.000000   \n",
              "mean   4.580302e+09  5.401822e+05      3.370842      2.114757   2079.899736   \n",
              "std    2.876566e+09  3.673622e+05      0.930062      0.770163    918.440897   \n",
              "min    1.000102e+06  7.500000e+04      0.000000      0.000000    290.000000   \n",
              "25%    2.123049e+09  3.219500e+05      3.000000      1.750000   1427.000000   \n",
              "50%    3.904930e+09  4.500000e+05      3.000000      2.250000   1910.000000   \n",
              "75%    7.308900e+09  6.450000e+05      4.000000      2.500000   2550.000000   \n",
              "max    9.900000e+09  7.700000e+06     33.000000      8.000000  13540.000000   \n",
              "\n",
              "           sqft_lot        floors    waterfront          view     condition  \\\n",
              "count  2.161300e+04  21613.000000  21613.000000  21613.000000  21613.000000   \n",
              "mean   1.510697e+04      1.494309      0.007542      0.234303      3.409430   \n",
              "std    4.142051e+04      0.539989      0.086517      0.766318      0.650743   \n",
              "min    5.200000e+02      1.000000      0.000000      0.000000      1.000000   \n",
              "25%    5.040000e+03      1.000000      0.000000      0.000000      3.000000   \n",
              "50%    7.618000e+03      1.500000      0.000000      0.000000      3.000000   \n",
              "75%    1.068800e+04      2.000000      0.000000      0.000000      4.000000   \n",
              "max    1.651359e+06      3.500000      1.000000      4.000000      5.000000   \n",
              "\n",
              "              grade    sqft_above  sqft_basement      yr_built  yr_renovated  \\\n",
              "count  21613.000000  21613.000000   21613.000000  21613.000000  21613.000000   \n",
              "mean       7.656873   1788.390691     291.509045   1971.005136     84.402258   \n",
              "std        1.175459    828.090978     442.575043     29.373411    401.679240   \n",
              "min        1.000000    290.000000       0.000000   1900.000000      0.000000   \n",
              "25%        7.000000   1190.000000       0.000000   1951.000000      0.000000   \n",
              "50%        7.000000   1560.000000       0.000000   1975.000000      0.000000   \n",
              "75%        8.000000   2210.000000     560.000000   1997.000000      0.000000   \n",
              "max       13.000000   9410.000000    4820.000000   2015.000000   2015.000000   \n",
              "\n",
              "            zipcode           lat          long  sqft_living15     sqft_lot15  \n",
              "count  21613.000000  21613.000000  21613.000000   21613.000000   21613.000000  \n",
              "mean   98077.939805     47.560053   -122.213896    1986.552492   12768.455652  \n",
              "std       53.505026      0.138564      0.140828     685.391304   27304.179631  \n",
              "min    98001.000000     47.155900   -122.519000     399.000000     651.000000  \n",
              "25%    98033.000000     47.471000   -122.328000    1490.000000    5100.000000  \n",
              "50%    98065.000000     47.571800   -122.230000    1840.000000    7620.000000  \n",
              "75%    98118.000000     47.678000   -122.125000    2360.000000   10083.000000  \n",
              "max    98199.000000     47.777600   -121.315000    6210.000000  871200.000000  "
            ]
          },
          "metadata": {
            "tags": []
          },
          "execution_count": 5
        }
      ]
    },
    {
      "cell_type": "code",
      "metadata": {
        "id": "JePABOFmot1O"
      },
      "source": [
        "\"\"\"\n",
        "We can consider the maximum value of a distribution in another way. We can think of it as the value in a set of data\n",
        "that has 100% of the observations at or below it. When we consider it in this way, we call it the 100th percentile. \n",
        "From this same perspective, the median, which has 50% of the observations at or below it, is the 50th percentile.\n",
        "The pth percentile of a distribution is the value such that p percent of the observations fall at or below it.\n",
        "\"\"\""
      ],
      "execution_count": null,
      "outputs": []
    },
    {
      "cell_type": "markdown",
      "metadata": {
        "id": "AHaNMHv5ot1P"
      },
      "source": [
        "http://my.ilstu.edu/~gjin/hsc204-hed/Module-5-Summary-Measure-2/Module-5-Summary-Measure-26.html\n"
      ]
    },
    {
      "cell_type": "code",
      "metadata": {
        "id": "cIhpw7Z3ot1P",
        "outputId": "c683725b-f483-4b1c-a150-c900f323c85a"
      },
      "source": [
        "df.isnull().sum()"
      ],
      "execution_count": null,
      "outputs": [
        {
          "output_type": "execute_result",
          "data": {
            "text/plain": [
              "id               0\n",
              "date             0\n",
              "price            0\n",
              "bedrooms         0\n",
              "bathrooms        0\n",
              "sqft_living      0\n",
              "sqft_lot         0\n",
              "floors           0\n",
              "waterfront       0\n",
              "view             0\n",
              "condition        0\n",
              "grade            0\n",
              "sqft_above       0\n",
              "sqft_basement    0\n",
              "yr_built         0\n",
              "yr_renovated     0\n",
              "zipcode          0\n",
              "lat              0\n",
              "long             0\n",
              "sqft_living15    0\n",
              "sqft_lot15       0\n",
              "dtype: int64"
            ]
          },
          "metadata": {
            "tags": []
          },
          "execution_count": 6
        }
      ]
    },
    {
      "cell_type": "code",
      "metadata": {
        "id": "vgVMr-W1ot1P",
        "outputId": "188f223a-b94e-423b-f237-0b36555988f7"
      },
      "source": [
        "plt.figure(figsize=(9,8))\n",
        "sns.heatmap(df.corr())"
      ],
      "execution_count": null,
      "outputs": [
        {
          "output_type": "execute_result",
          "data": {
            "text/plain": [
              "<matplotlib.axes._subplots.AxesSubplot at 0x227f27454f0>"
            ]
          },
          "metadata": {
            "tags": []
          },
          "execution_count": 7
        },
        {
          "output_type": "display_data",
          "data": {
            "image/png": "[encoded data removed]",
            "text/plain": [
              "<Figure size 648x576 with 2 Axes>"
            ]
          },
          "metadata": {
            "tags": [],
            "needs_background": "light"
          }
        }
      ]
    },
    {
      "cell_type": "markdown",
      "metadata": {
        "id": "1lzblyp_ot1P"
      },
      "source": [
        "### let's get the correlation between our features and our target \"Price\""
      ]
    },
    {
      "cell_type": "code",
      "metadata": {
        "id": "kfjIenELot1Q",
        "outputId": "ede05c20-57eb-4e8e-de07-dae576a8a41f"
      },
      "source": [
        "pd.DataFrame(df.corr()['price']).sort_values(by='price',ascending=False)"
      ],
      "execution_count": null,
      "outputs": [
        {
          "output_type": "execute_result",
          "data": {
            "text/html": [
              "<div>\n",
              "<style scoped>\n",
              "    .dataframe tbody tr th:only-of-type {\n",
              "        vertical-align: middle;\n",
              "    }\n",
              "\n",
              "    .dataframe tbody tr th {\n",
              "        vertical-align: top;\n",
              "    }\n",
              "\n",
              "    .dataframe thead th {\n",
              "        text-align: right;\n",
              "    }\n",
              "</style>\n",
              "<table border=\"1\" class=\"dataframe\">\n",
              "  <thead>\n",
              "    <tr style=\"text-align: right;\">\n",
              "      <th></th>\n",
              "      <th>price</th>\n",
              "    </tr>\n",
              "  </thead>\n",
              "  <tbody>\n",
              "    <tr>\n",
              "      <th>price</th>\n",
              "      <td>1.000000</td>\n",
              "    </tr>\n",
              "    <tr>\n",
              "      <th>sqft_living</th>\n",
              "      <td>0.702044</td>\n",
              "    </tr>\n",
              "    <tr>\n",
              "      <th>grade</th>\n",
              "      <td>0.667463</td>\n",
              "    </tr>\n",
              "    <tr>\n",
              "      <th>sqft_above</th>\n",
              "      <td>0.605566</td>\n",
              "    </tr>\n",
              "    <tr>\n",
              "      <th>sqft_living15</th>\n",
              "      <td>0.585374</td>\n",
              "    </tr>\n",
              "    <tr>\n",
              "      <th>bathrooms</th>\n",
              "      <td>0.525134</td>\n",
              "    </tr>\n",
              "    <tr>\n",
              "      <th>view</th>\n",
              "      <td>0.397346</td>\n",
              "    </tr>\n",
              "    <tr>\n",
              "      <th>sqft_basement</th>\n",
              "      <td>0.323837</td>\n",
              "    </tr>\n",
              "    <tr>\n",
              "      <th>bedrooms</th>\n",
              "      <td>0.308338</td>\n",
              "    </tr>\n",
              "    <tr>\n",
              "      <th>lat</th>\n",
              "      <td>0.306919</td>\n",
              "    </tr>\n",
              "    <tr>\n",
              "      <th>waterfront</th>\n",
              "      <td>0.266331</td>\n",
              "    </tr>\n",
              "    <tr>\n",
              "      <th>floors</th>\n",
              "      <td>0.256786</td>\n",
              "    </tr>\n",
              "    <tr>\n",
              "      <th>yr_renovated</th>\n",
              "      <td>0.126442</td>\n",
              "    </tr>\n",
              "    <tr>\n",
              "      <th>sqft_lot</th>\n",
              "      <td>0.089655</td>\n",
              "    </tr>\n",
              "    <tr>\n",
              "      <th>sqft_lot15</th>\n",
              "      <td>0.082456</td>\n",
              "    </tr>\n",
              "    <tr>\n",
              "      <th>yr_built</th>\n",
              "      <td>0.053982</td>\n",
              "    </tr>\n",
              "    <tr>\n",
              "      <th>condition</th>\n",
              "      <td>0.036392</td>\n",
              "    </tr>\n",
              "    <tr>\n",
              "      <th>long</th>\n",
              "      <td>0.021571</td>\n",
              "    </tr>\n",
              "    <tr>\n",
              "      <th>id</th>\n",
              "      <td>-0.016797</td>\n",
              "    </tr>\n",
              "    <tr>\n",
              "      <th>zipcode</th>\n",
              "      <td>-0.053168</td>\n",
              "    </tr>\n",
              "  </tbody>\n",
              "</table>\n",
              "</div>"
            ],
            "text/plain": [
              "                  price\n",
              "price          1.000000\n",
              "sqft_living    0.702044\n",
              "grade          0.667463\n",
              "sqft_above     0.605566\n",
              "sqft_living15  0.585374\n",
              "bathrooms      0.525134\n",
              "view           0.397346\n",
              "sqft_basement  0.323837\n",
              "bedrooms       0.308338\n",
              "lat            0.306919\n",
              "waterfront     0.266331\n",
              "floors         0.256786\n",
              "yr_renovated   0.126442\n",
              "sqft_lot       0.089655\n",
              "sqft_lot15     0.082456\n",
              "yr_built       0.053982\n",
              "condition      0.036392\n",
              "long           0.021571\n",
              "id            -0.016797\n",
              "zipcode       -0.053168"
            ]
          },
          "metadata": {
            "tags": []
          },
          "execution_count": 8
        }
      ]
    },
    {
      "cell_type": "markdown",
      "metadata": {
        "id": "UEtLdQDQot1Q"
      },
      "source": [
        "## let's plot some data "
      ]
    },
    {
      "cell_type": "markdown",
      "metadata": {
        "id": "krw-PqWcot1Q"
      },
      "source": [
        "### Bedrooms"
      ]
    },
    {
      "cell_type": "code",
      "metadata": {
        "id": "brGB5pXOot1Q",
        "outputId": "582d1155-46a2-4231-845c-671d9e6384ac"
      },
      "source": [
        "sns.countplot(df.bedrooms,order=df.bedrooms.value_counts().index);\n",
        "plt.title(\"Number of Bedrooms count\");"
      ],
      "execution_count": null,
      "outputs": [
        {
          "output_type": "display_data",
          "data": {
            "image/png": "[encoded data removed]",
            "text/plain": [
              "<Figure size 432x288 with 1 Axes>"
            ]
          },
          "metadata": {
            "tags": [],
            "needs_background": "light"
          }
        }
      ]
    },
    {
      "cell_type": "markdown",
      "metadata": {
        "id": "3ukMHkNIot1Q"
      },
      "source": [
        "### Bathrooms "
      ]
    },
    {
      "cell_type": "code",
      "metadata": {
        "id": "moVW99exot1Q",
        "outputId": "bae01db1-abe5-4deb-b922-1743675fa798"
      },
      "source": [
        "plt.xticks(rotation=90)\n",
        "sns.countplot(df.bathrooms,order=df.bathrooms.value_counts().index);\n",
        "plt.title('Number of bathroom Counts');"
      ],
      "execution_count": null,
      "outputs": [
        {
          "output_type": "display_data",
          "data": {
            "image/png": "[encoded data removed]",
            "text/plain": [
              "<Figure size 432x288 with 1 Axes>"
            ]
          },
          "metadata": {
            "tags": [],
            "needs_background": "light"
          }
        }
      ]
    },
    {
      "cell_type": "markdown",
      "metadata": {
        "id": "aWYO7Fz1ot1R"
      },
      "source": [
        "# View "
      ]
    },
    {
      "cell_type": "code",
      "metadata": {
        "id": "VDStQjw9ot1R",
        "outputId": "c8ea9d63-cbef-4fdc-fce9-be6fae398007"
      },
      "source": [
        "print(Counter(df.view))\n",
        "sns.countplot(df.view)\n",
        "plt.title('number of houses with good view')\n",
        "plt.show()"
      ],
      "execution_count": null,
      "outputs": [
        {
          "output_type": "stream",
          "text": [
            "Counter({0: 19489, 2: 963, 3: 510, 1: 332, 4: 319})\n"
          ],
          "name": "stdout"
        },
        {
          "output_type": "display_data",
          "data": {
            "image/png": "[encoded data removed]",
            "text/plain": [
              "<Figure size 432x288 with 1 Axes>"
            ]
          },
          "metadata": {
            "tags": [],
            "needs_background": "light"
          }
        }
      ]
    },
    {
      "cell_type": "code",
      "metadata": {
        "id": "CDuvYC3Yot1R",
        "outputId": "af6ad15f-e0db-470d-9f62-bed1aa8bda1e"
      },
      "source": [
        "df.view\n"
      ],
      "execution_count": null,
      "outputs": [
        {
          "output_type": "execute_result",
          "data": {
            "text/plain": [
              "0        0\n",
              "1        0\n",
              "2        0\n",
              "3        0\n",
              "4        0\n",
              "        ..\n",
              "21608    0\n",
              "21609    0\n",
              "21610    0\n",
              "21611    0\n",
              "21612    0\n",
              "Name: view, Length: 21613, dtype: int64"
            ]
          },
          "metadata": {
            "tags": []
          },
          "execution_count": 11
        }
      ]
    },
    {
      "cell_type": "markdown",
      "metadata": {
        "id": "-4beFPlpot1R"
      },
      "source": [
        "## Sqft_living and price : price = f(sqft_living)"
      ]
    },
    {
      "cell_type": "code",
      "metadata": {
        "id": "B9IybChAot1R",
        "outputId": "ecab83e2-ad72-4bd4-d549-7df1550648e1"
      },
      "source": [
        "sns.lmplot(x='sqft_living',y='price',data=df) "
      ],
      "execution_count": null,
      "outputs": [
        {
          "output_type": "execute_result",
          "data": {
            "text/plain": [
              "<seaborn.axisgrid.FacetGrid at 0x227f2bc7f10>"
            ]
          },
          "metadata": {
            "tags": []
          },
          "execution_count": 13
        },
        {
          "output_type": "display_data",
          "data": {
            "image/png": "[encoded data removed]",
            "text/plain": [
              "<Figure size 360x360 with 1 Axes>"
            ]
          },
          "metadata": {
            "tags": [],
            "needs_background": "light"
          }
        }
      ]
    },
    {
      "cell_type": "code",
      "metadata": {
        "id": "r9kgaZO5ot1S",
        "outputId": "c3d0c4ee-8842-4ce6-fd01-9d39f9512282"
      },
      "source": [
        "sns.pairplot(df, x_vars=['sqft_living','sqft_above','sqft_living15'], y_vars=['price'],hue='bathrooms')"
      ],
      "execution_count": null,
      "outputs": [
        {
          "output_type": "execute_result",
          "data": {
            "text/plain": [
              "<seaborn.axisgrid.PairGrid at 0x227f2c3f790>"
            ]
          },
          "metadata": {
            "tags": []
          },
          "execution_count": 14
        },
        {
          "output_type": "display_data",
          "data": {
            "image/png": "[encoded data removed]",
            "text/plain": [
              "<Figure size 601.375x180 with 3 Axes>"
            ]
          },
          "metadata": {
            "tags": [],
            "needs_background": "light"
          }
        }
      ]
    },
    {
      "cell_type": "markdown",
      "metadata": {
        "id": "vp6t2Jigot1S"
      },
      "source": [
        "## let's use sqft_living to build our first Regression model "
      ]
    },
    {
      "cell_type": "code",
      "metadata": {
        "id": "AgIKmSaMot1S"
      },
      "source": [
        "input_data = df['sqft_living'].values[:,np.newaxis]\n",
        "#np.newaxis to make it a column vector\n",
        "output_data = df['price'].values"
      ],
      "execution_count": null,
      "outputs": []
    },
    {
      "cell_type": "code",
      "metadata": {
        "id": "Fz3Ww7zeot1S",
        "outputId": "1f9b57af-48be-4bae-c156-aab6a76e6aee"
      },
      "source": [
        "output_data.shape"
      ],
      "execution_count": null,
      "outputs": [
        {
          "output_type": "execute_result",
          "data": {
            "text/plain": [
              "(21613,)"
            ]
          },
          "metadata": {
            "tags": []
          },
          "execution_count": 16
        }
      ]
    },
    {
      "cell_type": "code",
      "metadata": {
        "id": "aryk0Hgeot1S",
        "outputId": "44d1bc82-9abf-4976-c358-10ec17f62f3b"
      },
      "source": [
        "input_data2 = df['sqft_living']\n",
        "input_data2.shape"
      ],
      "execution_count": null,
      "outputs": [
        {
          "output_type": "execute_result",
          "data": {
            "text/plain": [
              "(21613,)"
            ]
          },
          "metadata": {
            "tags": []
          },
          "execution_count": 17
        }
      ]
    },
    {
      "cell_type": "markdown",
      "metadata": {
        "id": "59Ci6SIQot1T"
      },
      "source": [
        "![image.png](attachment:image.png)"
      ]
    },
    {
      "cell_type": "code",
      "metadata": {
        "id": "4Jola5-mot1T",
        "outputId": "4c118ed1-9f11-4017-d4b6-a95561e3038a"
      },
      "source": [
        "from sklearn.model_selection import train_test_split\n",
        "#split our data to a train and test splits using train_test_split\n",
        "X_train,X_test,y_train,y_test = train_test_split(input_data,output_data,test_size=0.2,random_state=42)\n",
        "\"\"\"\n",
        "random_state int, RandomState instance or None, default=None\n",
        "Controls the shuffling applied to the data before applying the split. \n",
        "Pass an int for reproducible output across multiple function calls. \n",
        "\n",
        "\"\"\""
      ],
      "execution_count": null,
      "outputs": [
        {
          "output_type": "execute_result",
          "data": {
            "text/plain": [
              "'\\nrandom_state int, RandomState instance or None, default=None\\nControls the shuffling applied to the data before applying the split. \\nPass an int for reproducible output across multiple function calls. \\n\\n'"
            ]
          },
          "metadata": {
            "tags": []
          },
          "execution_count": 18
        }
      ]
    },
    {
      "cell_type": "code",
      "metadata": {
        "id": "84KolBVrot1T",
        "outputId": "3473813a-4b2c-4fed-906a-14f407d6d774"
      },
      "source": [
        "#import our LinearRegression Model\n",
        "from sklearn.linear_model import LinearRegression\n",
        "#Instantiate our model \n",
        "model1 = LinearRegression()\n",
        "#let's train our first model  \n",
        "model1.fit(X_train,y_train)"
      ],
      "execution_count": null,
      "outputs": [
        {
          "output_type": "execute_result",
          "data": {
            "text/plain": [
              "LinearRegression()"
            ]
          },
          "metadata": {
            "tags": []
          },
          "execution_count": 19
        }
      ]
    },
    {
      "cell_type": "code",
      "metadata": {
        "id": "yvU98w2wot1T",
        "outputId": "de6e3cf5-8d02-4e80-868d-b3aa2f276b34"
      },
      "source": [
        "plt.figure(figsize=(7,7))\n",
        "plt.scatter(X_train,y_train)\n",
        "plt.plot(X_train,model1.predict(X_train),\"r\")"
      ],
      "execution_count": null,
      "outputs": [
        {
          "output_type": "execute_result",
          "data": {
            "text/plain": [
              "[<matplotlib.lines.Line2D at 0x227f32a9970>]"
            ]
          },
          "metadata": {
            "tags": []
          },
          "execution_count": 20
        },
        {
          "output_type": "display_data",
          "data": {
            "image/png": "[encoded data removed]",
            "text/plain": [
              "<Figure size 504x504 with 1 Axes>"
            ]
          },
          "metadata": {
            "tags": [],
            "needs_background": "light"
          }
        }
      ]
    },
    {
      "cell_type": "code",
      "metadata": {
        "id": "OIohHGjfot1T",
        "outputId": "1650bd95-8532-445e-a445-870888b18ebb"
      },
      "source": [
        "#model evaluation\n",
        "from sklearn.metrics import r2_score,mean_absolute_error,mean_squared_error\n",
        "#step 1 : make a prediction on the test_data\n",
        "prediction1=model1.predict(X_test)\n",
        "#MAE\n",
        "MAE = mean_absolute_error(y_test,prediction1)\n",
        "#MSE\n",
        "MSE = mean_squared_error(y_test,prediction1)\n",
        "#R_squared\n",
        "r2 = r2_score(y_test,prediction1)\n",
        "\n",
        "print(\"MAE :{:.4f}\".format(MAE))\n",
        "print(\"MSE :{:.4f}\".format(MSE))\n",
        "print(\"R2_score :{:.2f}\".format(r2))"
      ],
      "execution_count": null,
      "outputs": [
        {
          "output_type": "stream",
          "text": [
            "MAE :177990.7676\n",
            "MSE :76570251342.0411\n",
            "R2_score :0.49\n"
          ],
          "name": "stdout"
        }
      ]
    },
    {
      "cell_type": "markdown",
      "metadata": {
        "id": "2pMUb4koot1U"
      },
      "source": [
        "https://joshlawman.com/metrics-regression/\n",
        "\n",
        "\n",
        "## R2_score:\n",
        "Also know as the coefficient of determination. It gives some idea of the “goodness of fit” of the model. It calculates the proportion of variance which is explained by the model. Ranges from 0 to 1 where perfect explanation is denoted with a 1."
      ]
    },
    {
      "cell_type": "markdown",
      "metadata": {
        "id": "xjNv_EDNot1U"
      },
      "source": [
        "## let's try it using the top 4 most correlated features with our target \"Price\" "
      ]
    },
    {
      "cell_type": "code",
      "metadata": {
        "id": "_87rjtE4ot1U",
        "outputId": "da5bdc26-2563-4f41-df56-77610ba9df21"
      },
      "source": [
        "input_data2 = df[['sqft_living','grade','sqft_above']]\n",
        "print(input_data2)"
      ],
      "execution_count": null,
      "outputs": [
        {
          "output_type": "stream",
          "text": [
            "       sqft_living  grade  sqft_above\n",
            "0             1180      7        1180\n",
            "1             2570      7        2170\n",
            "2              770      6         770\n",
            "3             1960      7        1050\n",
            "4             1680      8        1680\n",
            "...            ...    ...         ...\n",
            "21608         1530      8        1530\n",
            "21609         2310      8        2310\n",
            "21610         1020      7        1020\n",
            "21611         1600      8        1600\n",
            "21612         1020      7        1020\n",
            "\n",
            "[21613 rows x 3 columns]\n"
          ],
          "name": "stdout"
        }
      ]
    },
    {
      "cell_type": "code",
      "metadata": {
        "id": "TtQjncqVot1U"
      },
      "source": [
        "#split our data to a train and test splits using train_test_split\n",
        "X_train,X_test,y_train,y_test = train_test_split(input_data2,output_data,test_size=0.2,random_state=42)"
      ],
      "execution_count": null,
      "outputs": []
    },
    {
      "cell_type": "code",
      "metadata": {
        "id": "f0iJa9TEot1U",
        "outputId": "f081dd6b-02bf-4441-ec54-5ad23e3894cb"
      },
      "source": [
        "#Instantiate our model \n",
        "model2 = LinearRegression()\n",
        "model2.fit(X_train,y_train)"
      ],
      "execution_count": null,
      "outputs": [
        {
          "output_type": "execute_result",
          "data": {
            "text/plain": [
              "LinearRegression()"
            ]
          },
          "metadata": {
            "tags": []
          },
          "execution_count": 24
        }
      ]
    },
    {
      "cell_type": "code",
      "metadata": {
        "id": "97xzI5kUot1V",
        "outputId": "661e559f-5ba1-45af-b033-748adf2fea65"
      },
      "source": [
        "#step 1 : make a prediction on the test_data\n",
        "prediction1=model2.predict(X_test)\n",
        "#MAE\n",
        "MAE = mean_absolute_error(y_test,prediction1)\n",
        "#MSE\n",
        "MSE = mean_squared_error(y_test,prediction1)\n",
        "#R_squared\n",
        "r2 = r2_score(y_test,prediction1)\n",
        "\n",
        "print(\"MAE :{:.2f}\".format(MAE))\n",
        "print(\"MSE :{:.2f}\".format(MSE))\n",
        "print(\"R2_score :{:.2f}\".format(r2))"
      ],
      "execution_count": null,
      "outputs": [
        {
          "output_type": "stream",
          "text": [
            "MAE :165970.98\n",
            "MSE :69066197123.77\n",
            "R2_score :0.54\n"
          ],
          "name": "stdout"
        }
      ]
    },
    {
      "cell_type": "markdown",
      "metadata": {
        "id": "7u4MZyODot1V"
      },
      "source": [
        "# And finally let's try it using ALL possible feature"
      ]
    },
    {
      "cell_type": "code",
      "metadata": {
        "id": "ebu2y_SYot1V",
        "outputId": "26837438-20c3-4cdf-86bb-63b355ddc063"
      },
      "source": [
        "features = [i for i in list(df) if i not in ['id','date','price']]\n",
        "print(features)\n",
        "label = \"price\""
      ],
      "execution_count": null,
      "outputs": [
        {
          "output_type": "stream",
          "text": [
            "['bedrooms', 'bathrooms', 'sqft_living', 'sqft_lot', 'floors', 'waterfront', 'view', 'condition', 'grade', 'sqft_above', 'sqft_basement', 'yr_built', 'yr_renovated', 'zipcode', 'lat', 'long', 'sqft_living15', 'sqft_lot15']\n"
          ],
          "name": "stdout"
        }
      ]
    },
    {
      "cell_type": "code",
      "metadata": {
        "id": "mzopiPPWot1V"
      },
      "source": [
        "input_data3 = df[features] \n",
        "#split our data to a train and test splits using train_test_split\n",
        "X_train,X_test,y_train,y_test = train_test_split(input_data3,df[\"price\"],test_size=0.2,random_state=42)"
      ],
      "execution_count": null,
      "outputs": []
    },
    {
      "cell_type": "code",
      "metadata": {
        "id": "Lk2POilnot1V",
        "outputId": "81f34f3a-80e9-4c97-ab14-05d1ba764148"
      },
      "source": [
        "#Instantiate our model \n",
        "model3 = LinearRegression()\n",
        "model3.fit(X_train,y_train)"
      ],
      "execution_count": null,
      "outputs": [
        {
          "output_type": "execute_result",
          "data": {
            "text/plain": [
              "LinearRegression()"
            ]
          },
          "metadata": {
            "tags": []
          },
          "execution_count": 28
        }
      ]
    },
    {
      "cell_type": "code",
      "metadata": {
        "id": "YPnTYEMhot1W",
        "outputId": "1a9c1579-ed4c-4406-b000-4feac16e7950"
      },
      "source": [
        "#step 1 : make a prediction on the test_data\n",
        "prediction3=model3.predict(X_test)\n",
        "#MAE\n",
        "MAE = mean_absolute_error(y_test,prediction3)\n",
        "#MSE\n",
        "MSE = mean_squared_error(y_test,prediction3)\n",
        "#R_squared\n",
        "r2 = r2_score(y_test,prediction3)\n",
        "\n",
        "print(\"MAE :{:.2f}\".format(MAE))\n",
        "print(\"MSE :{:.2f}\".format(MSE))\n",
        "print(\"R2_score :{:.2f}\".format(r2))"
      ],
      "execution_count": null,
      "outputs": [
        {
          "output_type": "stream",
          "text": [
            "MAE :127610.70\n",
            "MSE :45224874244.73\n",
            "R2_score :0.70\n"
          ],
          "name": "stdout"
        }
      ]
    },
    {
      "cell_type": "markdown",
      "metadata": {
        "id": "E3-QpwVyot1W"
      },
      "source": [
        "## Let's try some feature engeneering to improve the performance"
      ]
    },
    {
      "cell_type": "code",
      "metadata": {
        "id": "uUOlBWw7ot1W",
        "outputId": "797ba166-821a-4863-b73f-70af4df4651d"
      },
      "source": [
        "import seaborn as sns\n",
        "import matplotlib.pyplot as plt\n",
        "sns.distplot(df['price']);\n",
        "plt.xticks(rotation=10);\n",
        "plt.title(\"Before normalizing the dependent variable\");"
      ],
      "execution_count": null,
      "outputs": [
        {
          "output_type": "display_data",
          "data": {
            "image/png": "[encoded data removed]",
            "text/plain": [
              "<Figure size 432x288 with 1 Axes>"
            ]
          },
          "metadata": {
            "tags": [],
            "needs_background": "light"
          }
        }
      ]
    },
    {
      "cell_type": "code",
      "metadata": {
        "id": "y86toiQIot1W"
      },
      "source": [
        "test = np.log(df['price'])"
      ],
      "execution_count": null,
      "outputs": []
    },
    {
      "cell_type": "code",
      "metadata": {
        "id": "8jCSP32Qot1W",
        "outputId": "7b6e745b-8c0c-4575-aeb2-a968934b9776"
      },
      "source": [
        "sns.distplot(test)"
      ],
      "execution_count": null,
      "outputs": [
        {
          "output_type": "execute_result",
          "data": {
            "text/plain": [
              "<matplotlib.axes._subplots.AxesSubplot at 0x227f2d78700>"
            ]
          },
          "metadata": {
            "tags": []
          },
          "execution_count": 32
        },
        {
          "output_type": "display_data",
          "data": {
            "image/png": "[encoded data removed]",
            "text/plain": [
              "<Figure size 432x288 with 1 Axes>"
            ]
          },
          "metadata": {
            "tags": [],
            "needs_background": "light"
          }
        }
      ]
    },
    {
      "cell_type": "markdown",
      "metadata": {
        "id": "c5CvQX9Kot1W"
      },
      "source": [
        "![image.png](attachment:image.png)"
      ]
    },
    {
      "cell_type": "code",
      "metadata": {
        "id": "hLWGseL3ot1X"
      },
      "source": [
        "output = test.copy()"
      ],
      "execution_count": null,
      "outputs": []
    },
    {
      "cell_type": "markdown",
      "metadata": {
        "id": "L1-lrtsXot1X"
      },
      "source": [
        "# And let's extract the old of purchace"
      ]
    },
    {
      "cell_type": "code",
      "metadata": {
        "id": "HJ7FgcYbot1X"
      },
      "source": [
        "def extract(year):\n",
        "    year = list(year)\n",
        "    for i in range(len(year)):\n",
        "        year[i]=2021-year[i]\n",
        "    return year    "
      ],
      "execution_count": null,
      "outputs": []
    },
    {
      "cell_type": "code",
      "metadata": {
        "id": "dI8YFE3yot1X"
      },
      "source": [
        "df['old']=extract(df['yr_built'])"
      ],
      "execution_count": null,
      "outputs": []
    },
    {
      "cell_type": "code",
      "metadata": {
        "id": "7P7_Gj97ot1X",
        "outputId": "2b34c84f-00ce-4e28-ff75-d3de301e466a"
      },
      "source": [
        "df.old"
      ],
      "execution_count": null,
      "outputs": [
        {
          "output_type": "execute_result",
          "data": {
            "text/plain": [
              "0        66\n",
              "1        70\n",
              "2        88\n",
              "3        56\n",
              "4        34\n",
              "         ..\n",
              "21608    12\n",
              "21609     7\n",
              "21610    12\n",
              "21611    17\n",
              "21612    13\n",
              "Name: old, Length: 21613, dtype: int64"
            ]
          },
          "metadata": {
            "tags": []
          },
          "execution_count": 37
        }
      ]
    },
    {
      "cell_type": "code",
      "metadata": {
        "id": "wCbQIcYyot1X",
        "outputId": "61f76272-6336-44fa-fda8-23651b423c01"
      },
      "source": [
        "pd.DataFrame(df.corr())"
      ],
      "execution_count": null,
      "outputs": [
        {
          "output_type": "execute_result",
          "data": {
            "text/html": [
              "<div>\n",
              "<style scoped>\n",
              "    .dataframe tbody tr th:only-of-type {\n",
              "        vertical-align: middle;\n",
              "    }\n",
              "\n",
              "    .dataframe tbody tr th {\n",
              "        vertical-align: top;\n",
              "    }\n",
              "\n",
              "    .dataframe thead th {\n",
              "        text-align: right;\n",
              "    }\n",
              "</style>\n",
              "<table border=\"1\" class=\"dataframe\">\n",
              "  <thead>\n",
              "    <tr style=\"text-align: right;\">\n",
              "      <th></th>\n",
              "      <th>id</th>\n",
              "      <th>price</th>\n",
              "      <th>bedrooms</th>\n",
              "      <th>bathrooms</th>\n",
              "      <th>sqft_living</th>\n",
              "      <th>sqft_lot</th>\n",
              "      <th>floors</th>\n",
              "      <th>waterfront</th>\n",
              "      <th>view</th>\n",
              "      <th>condition</th>\n",
              "      <th>...</th>\n",
              "      <th>sqft_above</th>\n",
              "      <th>sqft_basement</th>\n",
              "      <th>yr_built</th>\n",
              "      <th>yr_renovated</th>\n",
              "      <th>zipcode</th>\n",
              "      <th>lat</th>\n",
              "      <th>long</th>\n",
              "      <th>sqft_living15</th>\n",
              "      <th>sqft_lot15</th>\n",
              "      <th>old</th>\n",
              "    </tr>\n",
              "  </thead>\n",
              "  <tbody>\n",
              "    <tr>\n",
              "      <th>id</th>\n",
              "      <td>1.000000</td>\n",
              "      <td>-0.016797</td>\n",
              "      <td>0.001286</td>\n",
              "      <td>0.005160</td>\n",
              "      <td>-0.012258</td>\n",
              "      <td>-0.132109</td>\n",
              "      <td>0.018525</td>\n",
              "      <td>-0.002721</td>\n",
              "      <td>0.011592</td>\n",
              "      <td>-0.023783</td>\n",
              "      <td>...</td>\n",
              "      <td>-0.010842</td>\n",
              "      <td>-0.005151</td>\n",
              "      <td>0.021380</td>\n",
              "      <td>-0.016907</td>\n",
              "      <td>-0.008224</td>\n",
              "      <td>-0.001891</td>\n",
              "      <td>0.020799</td>\n",
              "      <td>-0.002901</td>\n",
              "      <td>-0.138798</td>\n",
              "      <td>-0.021380</td>\n",
              "    </tr>\n",
              "    <tr>\n",
              "      <th>price</th>\n",
              "      <td>-0.016797</td>\n",
              "      <td>1.000000</td>\n",
              "      <td>0.308338</td>\n",
              "      <td>0.525134</td>\n",
              "      <td>0.702044</td>\n",
              "      <td>0.089655</td>\n",
              "      <td>0.256786</td>\n",
              "      <td>0.266331</td>\n",
              "      <td>0.397346</td>\n",
              "      <td>0.036392</td>\n",
              "      <td>...</td>\n",
              "      <td>0.605566</td>\n",
              "      <td>0.323837</td>\n",
              "      <td>0.053982</td>\n",
              "      <td>0.126442</td>\n",
              "      <td>-0.053168</td>\n",
              "      <td>0.306919</td>\n",
              "      <td>0.021571</td>\n",
              "      <td>0.585374</td>\n",
              "      <td>0.082456</td>\n",
              "      <td>-0.053982</td>\n",
              "    </tr>\n",
              "    <tr>\n",
              "      <th>bedrooms</th>\n",
              "      <td>0.001286</td>\n",
              "      <td>0.308338</td>\n",
              "      <td>1.000000</td>\n",
              "      <td>0.515884</td>\n",
              "      <td>0.576671</td>\n",
              "      <td>0.031703</td>\n",
              "      <td>0.175429</td>\n",
              "      <td>-0.006582</td>\n",
              "      <td>0.079532</td>\n",
              "      <td>0.028472</td>\n",
              "      <td>...</td>\n",
              "      <td>0.477600</td>\n",
              "      <td>0.303093</td>\n",
              "      <td>0.154178</td>\n",
              "      <td>0.018841</td>\n",
              "      <td>-0.152668</td>\n",
              "      <td>-0.008931</td>\n",
              "      <td>0.129473</td>\n",
              "      <td>0.391638</td>\n",
              "      <td>0.029244</td>\n",
              "      <td>-0.154178</td>\n",
              "    </tr>\n",
              "    <tr>\n",
              "      <th>bathrooms</th>\n",
              "      <td>0.005160</td>\n",
              "      <td>0.525134</td>\n",
              "      <td>0.515884</td>\n",
              "      <td>1.000000</td>\n",
              "      <td>0.754665</td>\n",
              "      <td>0.087740</td>\n",
              "      <td>0.500653</td>\n",
              "      <td>0.063744</td>\n",
              "      <td>0.187737</td>\n",
              "      <td>-0.124982</td>\n",
              "      <td>...</td>\n",
              "      <td>0.685342</td>\n",
              "      <td>0.283770</td>\n",
              "      <td>0.506019</td>\n",
              "      <td>0.050739</td>\n",
              "      <td>-0.203866</td>\n",
              "      <td>0.024573</td>\n",
              "      <td>0.223042</td>\n",
              "      <td>0.568634</td>\n",
              "      <td>0.087175</td>\n",
              "      <td>-0.506019</td>\n",
              "    </tr>\n",
              "    <tr>\n",
              "      <th>sqft_living</th>\n",
              "      <td>-0.012258</td>\n",
              "      <td>0.702044</td>\n",
              "      <td>0.576671</td>\n",
              "      <td>0.754665</td>\n",
              "      <td>1.000000</td>\n",
              "      <td>0.172826</td>\n",
              "      <td>0.353949</td>\n",
              "      <td>0.103818</td>\n",
              "      <td>0.284611</td>\n",
              "      <td>-0.058753</td>\n",
              "      <td>...</td>\n",
              "      <td>0.876597</td>\n",
              "      <td>0.435043</td>\n",
              "      <td>0.318049</td>\n",
              "      <td>0.055363</td>\n",
              "      <td>-0.199430</td>\n",
              "      <td>0.052529</td>\n",
              "      <td>0.240223</td>\n",
              "      <td>0.756420</td>\n",
              "      <td>0.183286</td>\n",
              "      <td>-0.318049</td>\n",
              "    </tr>\n",
              "    <tr>\n",
              "      <th>sqft_lot</th>\n",
              "      <td>-0.132109</td>\n",
              "      <td>0.089655</td>\n",
              "      <td>0.031703</td>\n",
              "      <td>0.087740</td>\n",
              "      <td>0.172826</td>\n",
              "      <td>1.000000</td>\n",
              "      <td>-0.005201</td>\n",
              "      <td>0.021604</td>\n",
              "      <td>0.074710</td>\n",
              "      <td>-0.008958</td>\n",
              "      <td>...</td>\n",
              "      <td>0.183512</td>\n",
              "      <td>0.015286</td>\n",
              "      <td>0.053080</td>\n",
              "      <td>0.007644</td>\n",
              "      <td>-0.129574</td>\n",
              "      <td>-0.085683</td>\n",
              "      <td>0.229521</td>\n",
              "      <td>0.144608</td>\n",
              "      <td>0.718557</td>\n",
              "      <td>-0.053080</td>\n",
              "    </tr>\n",
              "    <tr>\n",
              "      <th>floors</th>\n",
              "      <td>0.018525</td>\n",
              "      <td>0.256786</td>\n",
              "      <td>0.175429</td>\n",
              "      <td>0.500653</td>\n",
              "      <td>0.353949</td>\n",
              "      <td>-0.005201</td>\n",
              "      <td>1.000000</td>\n",
              "      <td>0.023698</td>\n",
              "      <td>0.029444</td>\n",
              "      <td>-0.263768</td>\n",
              "      <td>...</td>\n",
              "      <td>0.523885</td>\n",
              "      <td>-0.245705</td>\n",
              "      <td>0.489319</td>\n",
              "      <td>0.006338</td>\n",
              "      <td>-0.059121</td>\n",
              "      <td>0.049614</td>\n",
              "      <td>0.125419</td>\n",
              "      <td>0.279885</td>\n",
              "      <td>-0.011269</td>\n",
              "      <td>-0.489319</td>\n",
              "    </tr>\n",
              "    <tr>\n",
              "      <th>waterfront</th>\n",
              "      <td>-0.002721</td>\n",
              "      <td>0.266331</td>\n",
              "      <td>-0.006582</td>\n",
              "      <td>0.063744</td>\n",
              "      <td>0.103818</td>\n",
              "      <td>0.021604</td>\n",
              "      <td>0.023698</td>\n",
              "      <td>1.000000</td>\n",
              "      <td>0.401857</td>\n",
              "      <td>0.016653</td>\n",
              "      <td>...</td>\n",
              "      <td>0.072075</td>\n",
              "      <td>0.080588</td>\n",
              "      <td>-0.026161</td>\n",
              "      <td>0.092885</td>\n",
              "      <td>0.030285</td>\n",
              "      <td>-0.014274</td>\n",
              "      <td>-0.041910</td>\n",
              "      <td>0.086463</td>\n",
              "      <td>0.030703</td>\n",
              "      <td>0.026161</td>\n",
              "    </tr>\n",
              "    <tr>\n",
              "      <th>view</th>\n",
              "      <td>0.011592</td>\n",
              "      <td>0.397346</td>\n",
              "      <td>0.079532</td>\n",
              "      <td>0.187737</td>\n",
              "      <td>0.284611</td>\n",
              "      <td>0.074710</td>\n",
              "      <td>0.029444</td>\n",
              "      <td>0.401857</td>\n",
              "      <td>1.000000</td>\n",
              "      <td>0.045990</td>\n",
              "      <td>...</td>\n",
              "      <td>0.167649</td>\n",
              "      <td>0.276947</td>\n",
              "      <td>-0.053440</td>\n",
              "      <td>0.103917</td>\n",
              "      <td>0.084827</td>\n",
              "      <td>0.006157</td>\n",
              "      <td>-0.078400</td>\n",
              "      <td>0.280439</td>\n",
              "      <td>0.072575</td>\n",
              "      <td>0.053440</td>\n",
              "    </tr>\n",
              "    <tr>\n",
              "      <th>condition</th>\n",
              "      <td>-0.023783</td>\n",
              "      <td>0.036392</td>\n",
              "      <td>0.028472</td>\n",
              "      <td>-0.124982</td>\n",
              "      <td>-0.058753</td>\n",
              "      <td>-0.008958</td>\n",
              "      <td>-0.263768</td>\n",
              "      <td>0.016653</td>\n",
              "      <td>0.045990</td>\n",
              "      <td>1.000000</td>\n",
              "      <td>...</td>\n",
              "      <td>-0.158214</td>\n",
              "      <td>0.174105</td>\n",
              "      <td>-0.361417</td>\n",
              "      <td>-0.060618</td>\n",
              "      <td>0.003026</td>\n",
              "      <td>-0.014941</td>\n",
              "      <td>-0.106500</td>\n",
              "      <td>-0.092824</td>\n",
              "      <td>-0.003406</td>\n",
              "      <td>0.361417</td>\n",
              "    </tr>\n",
              "    <tr>\n",
              "      <th>grade</th>\n",
              "      <td>0.008130</td>\n",
              "      <td>0.667463</td>\n",
              "      <td>0.356967</td>\n",
              "      <td>0.664983</td>\n",
              "      <td>0.762704</td>\n",
              "      <td>0.113621</td>\n",
              "      <td>0.458183</td>\n",
              "      <td>0.082775</td>\n",
              "      <td>0.251321</td>\n",
              "      <td>-0.144674</td>\n",
              "      <td>...</td>\n",
              "      <td>0.755923</td>\n",
              "      <td>0.168392</td>\n",
              "      <td>0.446963</td>\n",
              "      <td>0.014414</td>\n",
              "      <td>-0.184862</td>\n",
              "      <td>0.114084</td>\n",
              "      <td>0.198372</td>\n",
              "      <td>0.713202</td>\n",
              "      <td>0.119248</td>\n",
              "      <td>-0.446963</td>\n",
              "    </tr>\n",
              "    <tr>\n",
              "      <th>sqft_above</th>\n",
              "      <td>-0.010842</td>\n",
              "      <td>0.605566</td>\n",
              "      <td>0.477600</td>\n",
              "      <td>0.685342</td>\n",
              "      <td>0.876597</td>\n",
              "      <td>0.183512</td>\n",
              "      <td>0.523885</td>\n",
              "      <td>0.072075</td>\n",
              "      <td>0.167649</td>\n",
              "      <td>-0.158214</td>\n",
              "      <td>...</td>\n",
              "      <td>1.000000</td>\n",
              "      <td>-0.051943</td>\n",
              "      <td>0.423898</td>\n",
              "      <td>0.023285</td>\n",
              "      <td>-0.261190</td>\n",
              "      <td>-0.000816</td>\n",
              "      <td>0.343803</td>\n",
              "      <td>0.731870</td>\n",
              "      <td>0.194050</td>\n",
              "      <td>-0.423898</td>\n",
              "    </tr>\n",
              "    <tr>\n",
              "      <th>sqft_basement</th>\n",
              "      <td>-0.005151</td>\n",
              "      <td>0.323837</td>\n",
              "      <td>0.303093</td>\n",
              "      <td>0.283770</td>\n",
              "      <td>0.435043</td>\n",
              "      <td>0.015286</td>\n",
              "      <td>-0.245705</td>\n",
              "      <td>0.080588</td>\n",
              "      <td>0.276947</td>\n",
              "      <td>0.174105</td>\n",
              "      <td>...</td>\n",
              "      <td>-0.051943</td>\n",
              "      <td>1.000000</td>\n",
              "      <td>-0.133124</td>\n",
              "      <td>0.071323</td>\n",
              "      <td>0.074845</td>\n",
              "      <td>0.110538</td>\n",
              "      <td>-0.144765</td>\n",
              "      <td>0.200355</td>\n",
              "      <td>0.017276</td>\n",
              "      <td>0.133124</td>\n",
              "    </tr>\n",
              "    <tr>\n",
              "      <th>yr_built</th>\n",
              "      <td>0.021380</td>\n",
              "      <td>0.053982</td>\n",
              "      <td>0.154178</td>\n",
              "      <td>0.506019</td>\n",
              "      <td>0.318049</td>\n",
              "      <td>0.053080</td>\n",
              "      <td>0.489319</td>\n",
              "      <td>-0.026161</td>\n",
              "      <td>-0.053440</td>\n",
              "      <td>-0.361417</td>\n",
              "      <td>...</td>\n",
              "      <td>0.423898</td>\n",
              "      <td>-0.133124</td>\n",
              "      <td>1.000000</td>\n",
              "      <td>-0.224874</td>\n",
              "      <td>-0.346869</td>\n",
              "      <td>-0.148122</td>\n",
              "      <td>0.409356</td>\n",
              "      <td>0.326229</td>\n",
              "      <td>0.070958</td>\n",
              "      <td>-1.000000</td>\n",
              "    </tr>\n",
              "    <tr>\n",
              "      <th>yr_renovated</th>\n",
              "      <td>-0.016907</td>\n",
              "      <td>0.126442</td>\n",
              "      <td>0.018841</td>\n",
              "      <td>0.050739</td>\n",
              "      <td>0.055363</td>\n",
              "      <td>0.007644</td>\n",
              "      <td>0.006338</td>\n",
              "      <td>0.092885</td>\n",
              "      <td>0.103917</td>\n",
              "      <td>-0.060618</td>\n",
              "      <td>...</td>\n",
              "      <td>0.023285</td>\n",
              "      <td>0.071323</td>\n",
              "      <td>-0.224874</td>\n",
              "      <td>1.000000</td>\n",
              "      <td>0.064357</td>\n",
              "      <td>0.029398</td>\n",
              "      <td>-0.068372</td>\n",
              "      <td>-0.002673</td>\n",
              "      <td>0.007854</td>\n",
              "      <td>0.224874</td>\n",
              "    </tr>\n",
              "    <tr>\n",
              "      <th>zipcode</th>\n",
              "      <td>-0.008224</td>\n",
              "      <td>-0.053168</td>\n",
              "      <td>-0.152668</td>\n",
              "      <td>-0.203866</td>\n",
              "      <td>-0.199430</td>\n",
              "      <td>-0.129574</td>\n",
              "      <td>-0.059121</td>\n",
              "      <td>0.030285</td>\n",
              "      <td>0.084827</td>\n",
              "      <td>0.003026</td>\n",
              "      <td>...</td>\n",
              "      <td>-0.261190</td>\n",
              "      <td>0.074845</td>\n",
              "      <td>-0.346869</td>\n",
              "      <td>0.064357</td>\n",
              "      <td>1.000000</td>\n",
              "      <td>0.267048</td>\n",
              "      <td>-0.564072</td>\n",
              "      <td>-0.279033</td>\n",
              "      <td>-0.147221</td>\n",
              "      <td>0.346869</td>\n",
              "    </tr>\n",
              "    <tr>\n",
              "      <th>lat</th>\n",
              "      <td>-0.001891</td>\n",
              "      <td>0.306919</td>\n",
              "      <td>-0.008931</td>\n",
              "      <td>0.024573</td>\n",
              "      <td>0.052529</td>\n",
              "      <td>-0.085683</td>\n",
              "      <td>0.049614</td>\n",
              "      <td>-0.014274</td>\n",
              "      <td>0.006157</td>\n",
              "      <td>-0.014941</td>\n",
              "      <td>...</td>\n",
              "      <td>-0.000816</td>\n",
              "      <td>0.110538</td>\n",
              "      <td>-0.148122</td>\n",
              "      <td>0.029398</td>\n",
              "      <td>0.267048</td>\n",
              "      <td>1.000000</td>\n",
              "      <td>-0.135512</td>\n",
              "      <td>0.048858</td>\n",
              "      <td>-0.086419</td>\n",
              "      <td>0.148122</td>\n",
              "    </tr>\n",
              "    <tr>\n",
              "      <th>long</th>\n",
              "      <td>0.020799</td>\n",
              "      <td>0.021571</td>\n",
              "      <td>0.129473</td>\n",
              "      <td>0.223042</td>\n",
              "      <td>0.240223</td>\n",
              "      <td>0.229521</td>\n",
              "      <td>0.125419</td>\n",
              "      <td>-0.041910</td>\n",
              "      <td>-0.078400</td>\n",
              "      <td>-0.106500</td>\n",
              "      <td>...</td>\n",
              "      <td>0.343803</td>\n",
              "      <td>-0.144765</td>\n",
              "      <td>0.409356</td>\n",
              "      <td>-0.068372</td>\n",
              "      <td>-0.564072</td>\n",
              "      <td>-0.135512</td>\n",
              "      <td>1.000000</td>\n",
              "      <td>0.334605</td>\n",
              "      <td>0.254451</td>\n",
              "      <td>-0.409356</td>\n",
              "    </tr>\n",
              "    <tr>\n",
              "      <th>sqft_living15</th>\n",
              "      <td>-0.002901</td>\n",
              "      <td>0.585374</td>\n",
              "      <td>0.391638</td>\n",
              "      <td>0.568634</td>\n",
              "      <td>0.756420</td>\n",
              "      <td>0.144608</td>\n",
              "      <td>0.279885</td>\n",
              "      <td>0.086463</td>\n",
              "      <td>0.280439</td>\n",
              "      <td>-0.092824</td>\n",
              "      <td>...</td>\n",
              "      <td>0.731870</td>\n",
              "      <td>0.200355</td>\n",
              "      <td>0.326229</td>\n",
              "      <td>-0.002673</td>\n",
              "      <td>-0.279033</td>\n",
              "      <td>0.048858</td>\n",
              "      <td>0.334605</td>\n",
              "      <td>1.000000</td>\n",
              "      <td>0.183192</td>\n",
              "      <td>-0.326229</td>\n",
              "    </tr>\n",
              "    <tr>\n",
              "      <th>sqft_lot15</th>\n",
              "      <td>-0.138798</td>\n",
              "      <td>0.082456</td>\n",
              "      <td>0.029244</td>\n",
              "      <td>0.087175</td>\n",
              "      <td>0.183286</td>\n",
              "      <td>0.718557</td>\n",
              "      <td>-0.011269</td>\n",
              "      <td>0.030703</td>\n",
              "      <td>0.072575</td>\n",
              "      <td>-0.003406</td>\n",
              "      <td>...</td>\n",
              "      <td>0.194050</td>\n",
              "      <td>0.017276</td>\n",
              "      <td>0.070958</td>\n",
              "      <td>0.007854</td>\n",
              "      <td>-0.147221</td>\n",
              "      <td>-0.086419</td>\n",
              "      <td>0.254451</td>\n",
              "      <td>0.183192</td>\n",
              "      <td>1.000000</td>\n",
              "      <td>-0.070958</td>\n",
              "    </tr>\n",
              "    <tr>\n",
              "      <th>old</th>\n",
              "      <td>-0.021380</td>\n",
              "      <td>-0.053982</td>\n",
              "      <td>-0.154178</td>\n",
              "      <td>-0.506019</td>\n",
              "      <td>-0.318049</td>\n",
              "      <td>-0.053080</td>\n",
              "      <td>-0.489319</td>\n",
              "      <td>0.026161</td>\n",
              "      <td>0.053440</td>\n",
              "      <td>0.361417</td>\n",
              "      <td>...</td>\n",
              "      <td>-0.423898</td>\n",
              "      <td>0.133124</td>\n",
              "      <td>-1.000000</td>\n",
              "      <td>0.224874</td>\n",
              "      <td>0.346869</td>\n",
              "      <td>0.148122</td>\n",
              "      <td>-0.409356</td>\n",
              "      <td>-0.326229</td>\n",
              "      <td>-0.070958</td>\n",
              "      <td>1.000000</td>\n",
              "    </tr>\n",
              "  </tbody>\n",
              "</table>\n",
              "<p>21 rows × 21 columns</p>\n",
              "</div>"
            ],
            "text/plain": [
              "                     id     price  bedrooms  bathrooms  sqft_living  sqft_lot  \\\n",
              "id             1.000000 -0.016797  0.001286   0.005160    -0.012258 -0.132109   \n",
              "price         -0.016797  1.000000  0.308338   0.525134     0.702044  0.089655   \n",
              "bedrooms       0.001286  0.308338  1.000000   0.515884     0.576671  0.031703   \n",
              "bathrooms      0.005160  0.525134  0.515884   1.000000     0.754665  0.087740   \n",
              "sqft_living   -0.012258  0.702044  0.576671   0.754665     1.000000  0.172826   \n",
              "sqft_lot      -0.132109  0.089655  0.031703   0.087740     0.172826  1.000000   \n",
              "floors         0.018525  0.256786  0.175429   0.500653     0.353949 -0.005201   \n",
              "waterfront    -0.002721  0.266331 -0.006582   0.063744     0.103818  0.021604   \n",
              "view           0.011592  0.397346  0.079532   0.187737     0.284611  0.074710   \n",
              "condition     -0.023783  0.036392  0.028472  -0.124982    -0.058753 -0.008958   \n",
              "grade          0.008130  0.667463  0.356967   0.664983     0.762704  0.113621   \n",
              "sqft_above    -0.010842  0.605566  0.477600   0.685342     0.876597  0.183512   \n",
              "sqft_basement -0.005151  0.323837  0.303093   0.283770     0.435043  0.015286   \n",
              "yr_built       0.021380  0.053982  0.154178   0.506019     0.318049  0.053080   \n",
              "yr_renovated  -0.016907  0.126442  0.018841   0.050739     0.055363  0.007644   \n",
              "zipcode       -0.008224 -0.053168 -0.152668  -0.203866    -0.199430 -0.129574   \n",
              "lat           -0.001891  0.306919 -0.008931   0.024573     0.052529 -0.085683   \n",
              "long           0.020799  0.021571  0.129473   0.223042     0.240223  0.229521   \n",
              "sqft_living15 -0.002901  0.585374  0.391638   0.568634     0.756420  0.144608   \n",
              "sqft_lot15    -0.138798  0.082456  0.029244   0.087175     0.183286  0.718557   \n",
              "old           -0.021380 -0.053982 -0.154178  -0.506019    -0.318049 -0.053080   \n",
              "\n",
              "                 floors  waterfront      view  condition  ...  sqft_above  \\\n",
              "id             0.018525   -0.002721  0.011592  -0.023783  ...   -0.010842   \n",
              "price          0.256786    0.266331  0.397346   0.036392  ...    0.605566   \n",
              "bedrooms       0.175429   -0.006582  0.079532   0.028472  ...    0.477600   \n",
              "bathrooms      0.500653    0.063744  0.187737  -0.124982  ...    0.685342   \n",
              "sqft_living    0.353949    0.103818  0.284611  -0.058753  ...    0.876597   \n",
              "sqft_lot      -0.005201    0.021604  0.074710  -0.008958  ...    0.183512   \n",
              "floors         1.000000    0.023698  0.029444  -0.263768  ...    0.523885   \n",
              "waterfront     0.023698    1.000000  0.401857   0.016653  ...    0.072075   \n",
              "view           0.029444    0.401857  1.000000   0.045990  ...    0.167649   \n",
              "condition     -0.263768    0.016653  0.045990   1.000000  ...   -0.158214   \n",
              "grade          0.458183    0.082775  0.251321  -0.144674  ...    0.755923   \n",
              "sqft_above     0.523885    0.072075  0.167649  -0.158214  ...    1.000000   \n",
              "sqft_basement -0.245705    0.080588  0.276947   0.174105  ...   -0.051943   \n",
              "yr_built       0.489319   -0.026161 -0.053440  -0.361417  ...    0.423898   \n",
              "yr_renovated   0.006338    0.092885  0.103917  -0.060618  ...    0.023285   \n",
              "zipcode       -0.059121    0.030285  0.084827   0.003026  ...   -0.261190   \n",
              "lat            0.049614   -0.014274  0.006157  -0.014941  ...   -0.000816   \n",
              "long           0.125419   -0.041910 -0.078400  -0.106500  ...    0.343803   \n",
              "sqft_living15  0.279885    0.086463  0.280439  -0.092824  ...    0.731870   \n",
              "sqft_lot15    -0.011269    0.030703  0.072575  -0.003406  ...    0.194050   \n",
              "old           -0.489319    0.026161  0.053440   0.361417  ...   -0.423898   \n",
              "\n",
              "               sqft_basement  yr_built  yr_renovated   zipcode       lat  \\\n",
              "id                 -0.005151  0.021380     -0.016907 -0.008224 -0.001891   \n",
              "price               0.323837  0.053982      0.126442 -0.053168  0.306919   \n",
              "bedrooms            0.303093  0.154178      0.018841 -0.152668 -0.008931   \n",
              "bathrooms           0.283770  0.506019      0.050739 -0.203866  0.024573   \n",
              "sqft_living         0.435043  0.318049      0.055363 -0.199430  0.052529   \n",
              "sqft_lot            0.015286  0.053080      0.007644 -0.129574 -0.085683   \n",
              "floors             -0.245705  0.489319      0.006338 -0.059121  0.049614   \n",
              "waterfront          0.080588 -0.026161      0.092885  0.030285 -0.014274   \n",
              "view                0.276947 -0.053440      0.103917  0.084827  0.006157   \n",
              "condition           0.174105 -0.361417     -0.060618  0.003026 -0.014941   \n",
              "grade               0.168392  0.446963      0.014414 -0.184862  0.114084   \n",
              "sqft_above         -0.051943  0.423898      0.023285 -0.261190 -0.000816   \n",
              "sqft_basement       1.000000 -0.133124      0.071323  0.074845  0.110538   \n",
              "yr_built           -0.133124  1.000000     -0.224874 -0.346869 -0.148122   \n",
              "yr_renovated        0.071323 -0.224874      1.000000  0.064357  0.029398   \n",
              "zipcode             0.074845 -0.346869      0.064357  1.000000  0.267048   \n",
              "lat                 0.110538 -0.148122      0.029398  0.267048  1.000000   \n",
              "long               -0.144765  0.409356     -0.068372 -0.564072 -0.135512   \n",
              "sqft_living15       0.200355  0.326229     -0.002673 -0.279033  0.048858   \n",
              "sqft_lot15          0.017276  0.070958      0.007854 -0.147221 -0.086419   \n",
              "old                 0.133124 -1.000000      0.224874  0.346869  0.148122   \n",
              "\n",
              "                   long  sqft_living15  sqft_lot15       old  \n",
              "id             0.020799      -0.002901   -0.138798 -0.021380  \n",
              "price          0.021571       0.585374    0.082456 -0.053982  \n",
              "bedrooms       0.129473       0.391638    0.029244 -0.154178  \n",
              "bathrooms      0.223042       0.568634    0.087175 -0.506019  \n",
              "sqft_living    0.240223       0.756420    0.183286 -0.318049  \n",
              "sqft_lot       0.229521       0.144608    0.718557 -0.053080  \n",
              "floors         0.125419       0.279885   -0.011269 -0.489319  \n",
              "waterfront    -0.041910       0.086463    0.030703  0.026161  \n",
              "view          -0.078400       0.280439    0.072575  0.053440  \n",
              "condition     -0.106500      -0.092824   -0.003406  0.361417  \n",
              "grade          0.198372       0.713202    0.119248 -0.446963  \n",
              "sqft_above     0.343803       0.731870    0.194050 -0.423898  \n",
              "sqft_basement -0.144765       0.200355    0.017276  0.133124  \n",
              "yr_built       0.409356       0.326229    0.070958 -1.000000  \n",
              "yr_renovated  -0.068372      -0.002673    0.007854  0.224874  \n",
              "zipcode       -0.564072      -0.279033   -0.147221  0.346869  \n",
              "lat           -0.135512       0.048858   -0.086419  0.148122  \n",
              "long           1.000000       0.334605    0.254451 -0.409356  \n",
              "sqft_living15  0.334605       1.000000    0.183192 -0.326229  \n",
              "sqft_lot15     0.254451       0.183192    1.000000 -0.070958  \n",
              "old           -0.409356      -0.326229   -0.070958  1.000000  \n",
              "\n",
              "[21 rows x 21 columns]"
            ]
          },
          "metadata": {
            "tags": []
          },
          "execution_count": 38
        }
      ]
    },
    {
      "cell_type": "code",
      "metadata": {
        "id": "Yj0D66Ngot1a"
      },
      "source": [
        "features = [i for i in list(df) if i not in ['id','price','date','yr_built']]"
      ],
      "execution_count": null,
      "outputs": []
    },
    {
      "cell_type": "code",
      "metadata": {
        "id": "mTsIvm6got1a"
      },
      "source": [
        "input_data = df[features]\n",
        "#split our data to a train and test splits using train_test_split\n",
        "X_train,X_test,y_train,y_test = train_test_split(input_data,output,test_size=0.2,random_state=42)"
      ],
      "execution_count": null,
      "outputs": []
    },
    {
      "cell_type": "code",
      "metadata": {
        "id": "w_6T5ZaMot1a",
        "outputId": "330d99f7-283e-4940-db36-daa6b9d71468"
      },
      "source": [
        "#Instantiate our model \n",
        "model3 = LinearRegression()\n",
        "model3.fit(X_train,y_train)"
      ],
      "execution_count": null,
      "outputs": [
        {
          "output_type": "execute_result",
          "data": {
            "text/plain": [
              "LinearRegression()"
            ]
          },
          "metadata": {
            "tags": []
          },
          "execution_count": 41
        }
      ]
    },
    {
      "cell_type": "code",
      "metadata": {
        "id": "CnRisVtrot1a",
        "outputId": "b61385ea-9deb-421d-966c-476b02b854bc"
      },
      "source": [
        "#step 1 : make a prediction on the test_data\n",
        "prediction3=model3.predict(X_test)\n",
        "#MAE\n",
        "MAE = mean_absolute_error(y_test,prediction3)\n",
        "#MSE\n",
        "MSE = mean_squared_error(y_test,prediction3)\n",
        "#R_squared\n",
        "r2 = r2_score(y_test,prediction3)\n",
        "\n",
        "print(\"MAE :{:.2f}\".format(MAE))\n",
        "print(\"MSE :{:.2f}\".format(MSE))\n",
        "print(\"R2_score :{:.2f}\".format(r2))"
      ],
      "execution_count": null,
      "outputs": [
        {
          "output_type": "stream",
          "text": [
            "MAE :0.20\n",
            "MSE :0.07\n",
            "R2_score :0.77\n"
          ],
          "name": "stdout"
        }
      ]
    }
  ]
}